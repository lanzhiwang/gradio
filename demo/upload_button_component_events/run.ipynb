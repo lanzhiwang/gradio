{
 "cells": [
  {
   "cell_type": "markdown",
   "id": "302934307671667531413257853548643485645",
   "metadata": {},
   "source": [
    "# Gradio Demo: upload_button_component_events"
   ]
  },
  {
   "cell_type": "code",
   "execution_count": null,
   "id": "272996653310673477252411125948039410165",
   "metadata": {},
   "outputs": [],
   "source": [
    "!pip install -q gradio"
   ]
  },
  {
   "cell_type": "code",
   "execution_count": null,
   "id": "288918539441861185822528903084949547379",
   "metadata": {},
   "outputs": [],
   "source": [
    "import gradio as gr\n",
    "\n",
    "with gr.Blocks() as demo:\n",
    "    with gr.Row():\n",
    "        with gr.Column():\n",
    "            upload_btn = gr.UploadButton(\n",
    "                label=\"Upload Single File\", file_count=\"single\"\n",
    "            )\n",
    "        with gr.Column():\n",
    "            output_file_1 = gr.File(\n",
    "                label=\"Upload Single File Output\", file_count=\"single\"\n",
    "            )\n",
    "            num_load_btn_1 = gr.Number(label=\"# Load Upload Single File\", value=0)\n",
    "            output_click_1 = gr.Number(\n",
    "                label=\"# Click Upload Single File Output\", value=0\n",
    "            )\n",
    "            upload_btn.upload(\n",
    "                lambda s, n: (s, n + 1),\n",
    "                [upload_btn, num_load_btn_1],\n",
    "                [output_file_1, num_load_btn_1],\n",
    "            )\n",
    "            upload_btn.click(lambda n: (n + 1), output_click_1, [output_click_1])\n",
    "    with gr.Row():\n",
    "        with gr.Column():\n",
    "            upload_btn_multiple = gr.UploadButton(\n",
    "                label=\"Upload Multiple Files\", file_count=\"multiple\"\n",
    "            )\n",
    "        with gr.Column():\n",
    "            output_file_2 = gr.File(\n",
    "                label=\"Upload Multiple Files Output\", file_count=\"multiple\"\n",
    "            )\n",
    "            num_load_btn_2 = gr.Number(label=\"# Load Upload Multiple Files\", value=0)\n",
    "            output_click_2 = gr.Number(\n",
    "                label=\"# Click Upload Multiple Files Output\", value=0\n",
    "            )\n",
    "            upload_btn_multiple.upload(\n",
    "                lambda s, n: (s, n + 1),\n",
    "                [upload_btn_multiple, num_load_btn_2],\n",
    "                [output_file_2, num_load_btn_2],\n",
    "            )\n",
    "            upload_btn_multiple.click(\n",
    "                lambda n: (n + 1), output_click_2, [output_click_2]\n",
    "            )\n",
    "\n",
    "\n",
    "if __name__ == \"__main__\":\n",
    "    demo.launch()"
   ]
  }
 ],
 "metadata": {},
 "nbformat": 4,
 "nbformat_minor": 5
}