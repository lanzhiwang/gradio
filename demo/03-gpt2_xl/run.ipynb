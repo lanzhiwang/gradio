{
 "cells": [
  {
   "cell_type": "markdown",
   "id": "302934307671667531413257853548643485645",
   "metadata": {},
   "source": [
    "# Gradio Demo: gpt2_xl"
   ]
  },
  {
   "cell_type": "code",
   "execution_count": null,
   "id": "272996653310673477252411125948039410165",
   "metadata": {},
   "outputs": [],
   "source": [
    "!pip install -q gradio"
   ]
  },
  {
   "cell_type": "code",
   "execution_count": null,
   "id": "288918539441861185822528903084949547379",
   "metadata": {},
   "outputs": [],
   "source": [
    "\"\"\"\n",
    "Description\n",
    "Method that constructs a Blocks from a Hugging Face repo.\n",
    "Can accept model repos (if src is \"models\") or Space repos (if src is \"spaces\"). The input and output components are automatically loaded from the repo.\n",
    "从 Hugging Face 存储库构造块的方法。 可以接受模型存储库（如果 src 是“models”）或空间存储库（如果 src 是“spaces”）。 输入和输出组件是从存储库自动加载的。\n",
    "\"\"\"\n",
    "\n",
    "import gradio as gr\n",
    "\n",
    "title = \"gpt2-xl\"\n",
    "\n",
    "examples = [\n",
    "    [\"The tower is 324 metres (1,063 ft) tall,\"],\n",
    "    [\"The Moon's orbit around Earth has\"],\n",
    "    [\"The smooth Borealis basin in the Northern Hemisphere covers 40%\"],\n",
    "]\n",
    "\n",
    "demo = gr.load(\n",
    "    \"huggingface/gpt2-xl\",  # huggingface/gpt2-xl 是一个模型\n",
    "    inputs=gr.Textbox(lines=5, max_lines=6, label=\"Input Text\"),\n",
    "    title=title,\n",
    "    examples=examples,\n",
    ")\n",
    "\n",
    "if __name__ == \"__main__\":\n",
    "    demo.launch()"
   ]
  }
 ],
 "metadata": {
  "language_info": {
   "name": "python"
  }
 },
 "nbformat": 4,
 "nbformat_minor": 5
}
