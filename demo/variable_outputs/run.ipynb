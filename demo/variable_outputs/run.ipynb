{
 "cells": [
  {
   "cell_type": "markdown",
   "id": "302934307671667531413257853548643485645",
   "metadata": {},
   "source": [
    "# Gradio Demo: variable_outputs"
   ]
  },
  {
   "cell_type": "code",
   "execution_count": null,
   "id": "272996653310673477252411125948039410165",
   "metadata": {},
   "outputs": [],
   "source": [
    "!pip install -q gradio"
   ]
  },
  {
   "cell_type": "code",
   "execution_count": null,
   "id": "288918539441861185822528903084949547379",
   "metadata": {},
   "outputs": [],
   "source": [
    "import gradio as gr\n",
    "\n",
    "max_textboxes = 10\n",
    "\n",
    "\n",
    "def variable_outputs(k):\n",
    "    k = int(k)\n",
    "    return [gr.Textbox(visible=True)] * k + [gr.Textbox(visible=False)] * (\n",
    "        max_textboxes - k\n",
    "    )\n",
    "\n",
    "\n",
    "with gr.Blocks() as demo:\n",
    "    s = gr.Slider(\n",
    "        1,\n",
    "        max_textboxes,\n",
    "        value=max_textboxes,\n",
    "        step=1,\n",
    "        label=\"How many textboxes to show:\",\n",
    "    )\n",
    "    textboxes = []\n",
    "    for i in range(max_textboxes):\n",
    "        t = gr.Textbox(f\"Textbox {i}\")\n",
    "        textboxes.append(t)\n",
    "\n",
    "    s.change(variable_outputs, s, textboxes)\n",
    "\n",
    "if __name__ == \"__main__\":\n",
    "    demo.launch()"
   ]
  }
 ],
 "metadata": {},
 "nbformat": 4,
 "nbformat_minor": 5
}