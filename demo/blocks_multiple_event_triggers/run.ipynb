{
 "cells": [
  {
   "cell_type": "markdown",
   "id": "302934307671667531413257853548643485645",
   "metadata": {},
   "source": [
    "# Gradio Demo: blocks_multiple_event_triggers"
   ]
  },
  {
   "cell_type": "code",
   "execution_count": null,
   "id": "272996653310673477252411125948039410165",
   "metadata": {},
   "outputs": [],
   "source": [
    "!pip install -q gradio plotly pypistats"
   ]
  },
  {
   "cell_type": "code",
   "execution_count": null,
   "id": "288918539441861185822528903084949547379",
   "metadata": {},
   "outputs": [],
   "source": [
    "import gradio as gr\n",
    "import pypistats\n",
    "from datetime import date\n",
    "from dateutil.relativedelta import relativedelta\n",
    "import pandas as pd\n",
    "\n",
    "\n",
    "def get_plot(lib, time):\n",
    "    data = pypistats.overall(lib, total=True, format=\"pandas\")\n",
    "    data = data.groupby(\"category\").get_group(\"with_mirrors\").sort_values(\"date\")\n",
    "    start_date = date.today() - relativedelta(months=int(time.split(\" \")[0]))\n",
    "    data = data[(data[\"date\"] > str(start_date))]\n",
    "    data.date = pd.to_datetime(pd.to_datetime(data.date))\n",
    "    return gr.LinePlot(\n",
    "        value=data,\n",
    "        x=\"date\",\n",
    "        y=\"downloads\",\n",
    "        tooltip=[\"date\", \"downloads\"],\n",
    "        title=f\"Pypi downloads of {lib} over last {time}\",\n",
    "        overlay_point=True,\n",
    "        height=400,\n",
    "        width=900,\n",
    "    )\n",
    "\n",
    "\n",
    "with gr.Blocks() as demo:\n",
    "    gr.Markdown(\n",
    "        \"\"\"\n",
    "        ## Pypi Download Stats 📈\n",
    "        See live download stats for all of Hugging Face's open-source libraries 🤗\n",
    "        \"\"\"\n",
    "    )\n",
    "    with gr.Row():\n",
    "        lib = gr.Dropdown(\n",
    "            [\"transformers\", \"datasets\", \"huggingface-hub\", \"gradio\", \"accelerate\"],\n",
    "            value=\"gradio\",\n",
    "            label=\"Library\",\n",
    "        )\n",
    "        time = gr.Dropdown(\n",
    "            [\"3 months\", \"6 months\", \"9 months\", \"12 months\"],\n",
    "            value=\"3 months\",\n",
    "            label=\"Downloads over the last...\",\n",
    "        )\n",
    "\n",
    "    plt = gr.LinePlot()\n",
    "    # You can add multiple event triggers in 2 lines like this\n",
    "    for event in [lib.change, time.change, demo.load]:\n",
    "        event(get_plot, [lib, time], [plt])\n",
    "\n",
    "if __name__ == \"__main__\":\n",
    "    demo.launch()"
   ]
  }
 ],
 "metadata": {},
 "nbformat": 4,
 "nbformat_minor": 5
}