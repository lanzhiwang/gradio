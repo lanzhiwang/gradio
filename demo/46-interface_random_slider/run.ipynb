{
 "cells": [
  {
   "cell_type": "markdown",
   "id": "302934307671667531413257853548643485645",
   "metadata": {},
   "source": [
    "# Gradio Demo: interface_random_slider"
   ]
  },
  {
   "cell_type": "code",
   "execution_count": null,
   "id": "272996653310673477252411125948039410165",
   "metadata": {},
   "outputs": [],
   "source": [
    "!pip install -q gradio"
   ]
  },
  {
   "cell_type": "code",
   "execution_count": null,
   "id": "288918539441861185822528903084949547379",
   "metadata": {},
   "outputs": [],
   "source": [
    "import gradio as gr\n",
    "\n",
    "\n",
    "def func(slider_1, slider_2, *args):\n",
    "    return slider_1 + slider_2 * 5\n",
    "\n",
    "\n",
    "demo = gr.Interface(\n",
    "    func,\n",
    "    [\n",
    "        gr.Slider(\n",
    "            minimum=1.5, maximum=250000.89, randomize=True, label=\"Random Big Range\"\n",
    "        ),\n",
    "        gr.Slider(\n",
    "            minimum=-1,\n",
    "            maximum=1,\n",
    "            randomize=True,\n",
    "            step=0.05,\n",
    "            label=\"Random only multiple of 0.05 allowed\",\n",
    "        ),\n",
    "        gr.Slider(\n",
    "            minimum=0,\n",
    "            maximum=1,\n",
    "            randomize=True,\n",
    "            step=0.25,\n",
    "            label=\"Random only multiples of 0.25 allowed\",\n",
    "        ),\n",
    "        gr.Slider(\n",
    "            minimum=-100,\n",
    "            maximum=100,\n",
    "            randomize=True,\n",
    "            step=3,\n",
    "            label=\"Random between -100 and 100 step 3\",\n",
    "        ),\n",
    "        gr.Slider(\n",
    "            minimum=-100,\n",
    "            maximum=100,\n",
    "            randomize=True,\n",
    "            label=\"Random between -100 and 100\",\n",
    "        ),\n",
    "        gr.Slider(value=0.25, minimum=5, maximum=30, step=-1),\n",
    "    ],\n",
    "    \"number\",\n",
    ")\n",
    "\n",
    "if __name__ == \"__main__\":\n",
    "    demo.launch()"
   ]
  }
 ],
 "metadata": {},
 "nbformat": 4,
 "nbformat_minor": 5
}